{
 "cells": [
  {
   "cell_type": "markdown",
   "id": "0259c370",
   "metadata": {
    "papermill": {
     "duration": 0.012257,
     "end_time": "2024-03-07T20:28:45.301645",
     "exception": false,
     "start_time": "2024-03-07T20:28:45.289388",
     "status": "completed"
    },
    "tags": []
   },
   "source": [
    "<IMG SRC=\"https://ucalgary.ca/themes/ucalgary/ucws_theme/images/UCalgary.svg\" WIDTH=250 ALIGN=\"right\">    </IMG>\n",
    "## Plotting $\\dot{V}O_2$ continued...\n",
    "\n",
    "#### Developed by Dr. John Holash at the University of Calgary"
   ]
  },
  {
   "cell_type": "code",
   "execution_count": 1,
   "id": "82f492da",
   "metadata": {
    "_cell_guid": "b1076dfc-b9ad-4769-8c92-a6c4dae69d19",
    "_uuid": "8f2839f25d086af736a60e9eeb907d3b93b6e0e5",
    "execution": {
     "iopub.execute_input": "2024-03-07T20:28:45.324625Z",
     "iopub.status.busy": "2024-03-07T20:28:45.324151Z",
     "iopub.status.idle": "2024-03-07T20:28:45.346921Z",
     "shell.execute_reply": "2024-03-07T20:28:45.345913Z"
    },
    "papermill": {
     "duration": 0.037845,
     "end_time": "2024-03-07T20:28:45.350049",
     "exception": false,
     "start_time": "2024-03-07T20:28:45.312204",
     "status": "completed"
    },
    "tags": []
   },
   "outputs": [
    {
     "name": "stdout",
     "output_type": "stream",
     "text": [
      "/kaggle/input/demo-knes381/subject_1321.xlsx\n",
      "/kaggle/input/demo-knes381/subject_1432.xlsx\n",
      "/kaggle/input/demo-knes381/subject_1321.csv\n",
      "/kaggle/input/demo-knes381/subject_1232.csv\n",
      "/kaggle/input/demo-knes381/VO2_CSV.csv\n",
      "/kaggle/input/demo-knes381/subject_1232.xlsx\n",
      "/kaggle/input/demo-knes381/subject_1432.csv\n",
      "/kaggle/input/demo-knes381/subject_1523.csv\n",
      "/kaggle/input/demo-knes381/VO2_excel.xlsx\n",
      "/kaggle/input/demo-knes381/subject_1523.xlsx\n"
     ]
    }
   ],
   "source": [
    "# This Python 3 environment comes with many helpful analytics libraries installed\n",
    "# It is defined by the kaggle/python Docker image: https://github.com/kaggle/docker-python\n",
    "# For example, here's several helpful packages to load\n",
    "\n",
    "import numpy as np # linear algebra\n",
    "import pandas as pd # data processing, CSV file I/O (e.g. pd.read_csv)\n",
    "\n",
    "# Input data files are available in the read-only \"../input/\" directory\n",
    "# For example, running this (by clicking run or pressing Shift+Enter) will list all files under the input directory\n",
    "\n",
    "import os\n",
    "for dirname, _, filenames in os.walk('/kaggle/input'):\n",
    "    for filename in filenames:\n",
    "        print(os.path.join(dirname, filename))\n",
    "\n",
    "# You can write up to 20GB to the current directory (/kaggle/working/) that gets preserved as output when you create a version using \"Save & Run All\" \n",
    "# You can also write temporary files to /kaggle/temp/, but they won't be saved outside of the current session"
   ]
  },
  {
   "cell_type": "code",
   "execution_count": 2,
   "id": "0fc65b50",
   "metadata": {
    "execution": {
     "iopub.execute_input": "2024-03-07T20:28:45.373364Z",
     "iopub.status.busy": "2024-03-07T20:28:45.372891Z",
     "iopub.status.idle": "2024-03-07T20:28:45.396850Z",
     "shell.execute_reply": "2024-03-07T20:28:45.395740Z"
    },
    "papermill": {
     "duration": 0.039224,
     "end_time": "2024-03-07T20:28:45.399913",
     "exception": false,
     "start_time": "2024-03-07T20:28:45.360689",
     "status": "completed"
    },
    "tags": []
   },
   "outputs": [],
   "source": [
    "df = pd.read_csv('../input/demo-knes381/subject_1232.csv', header=[0], skiprows=[1,2,3])"
   ]
  },
  {
   "cell_type": "code",
   "execution_count": 3,
   "id": "9bc67611",
   "metadata": {
    "execution": {
     "iopub.execute_input": "2024-03-07T20:28:45.423058Z",
     "iopub.status.busy": "2024-03-07T20:28:45.422594Z",
     "iopub.status.idle": "2024-03-07T20:28:45.452074Z",
     "shell.execute_reply": "2024-03-07T20:28:45.450900Z"
    },
    "papermill": {
     "duration": 0.044508,
     "end_time": "2024-03-07T20:28:45.455090",
     "exception": false,
     "start_time": "2024-03-07T20:28:45.410582",
     "status": "completed"
    },
    "tags": []
   },
   "outputs": [
    {
     "name": "stdout",
     "output_type": "stream",
     "text": [
      "<class 'pandas.core.frame.DataFrame'>\n",
      "RangeIndex: 54 entries, 0 to 53\n",
      "Data columns (total 17 columns):\n",
      " #   Column       Non-Null Count  Dtype  \n",
      "---  ------       --------------  -----  \n",
      " 0   TIME         54 non-null     float64\n",
      " 1   VO2          54 non-null     float64\n",
      " 2   VO2/kg       54 non-null     float64\n",
      " 3   METS         54 non-null     float64\n",
      " 4   VCO2         54 non-null     float64\n",
      " 5   VE           54 non-null     float64\n",
      " 6   RER          54 non-null     float64\n",
      " 7   RR           54 non-null     float64\n",
      " 8   Vt           54 non-null     float64\n",
      " 9   FEO2         54 non-null     float64\n",
      " 10  FECO2        54 non-null     float64\n",
      " 11  HR           54 non-null     float64\n",
      " 12  VE/VO2       54 non-null     float64\n",
      " 13  VE/VCO2      54 non-null     float64\n",
      " 14  PetCO2       54 non-null     float64\n",
      " 15  PO           54 non-null     int64  \n",
      " 16  Unnamed: 16  9 non-null      float64\n",
      "dtypes: float64(16), int64(1)\n",
      "memory usage: 7.3 KB\n"
     ]
    }
   ],
   "source": [
    "df.info()"
   ]
  },
  {
   "cell_type": "markdown",
   "id": "feb1a6b0",
   "metadata": {
    "papermill": {
     "duration": 0.010234,
     "end_time": "2024-03-07T20:28:45.476201",
     "exception": false,
     "start_time": "2024-03-07T20:28:45.465967",
     "status": "completed"
    },
    "tags": []
   },
   "source": [
    "### Rename some of the columns so they make sense\n",
    "you can rename them with the value TIME -> Time(min) but don't leave spaces if you want to auto-complete names..."
   ]
  },
  {
   "cell_type": "code",
   "execution_count": 4,
   "id": "2505ef83",
   "metadata": {
    "execution": {
     "iopub.execute_input": "2024-03-07T20:28:45.500190Z",
     "iopub.status.busy": "2024-03-07T20:28:45.498855Z",
     "iopub.status.idle": "2024-03-07T20:28:45.507007Z",
     "shell.execute_reply": "2024-03-07T20:28:45.505375Z"
    },
    "papermill": {
     "duration": 0.023664,
     "end_time": "2024-03-07T20:28:45.510473",
     "exception": false,
     "start_time": "2024-03-07T20:28:45.486809",
     "status": "completed"
    },
    "tags": []
   },
   "outputs": [],
   "source": [
    "df = df.rename(columns={'VE/': 'VE/VO2','VE/.1': 'VE/VCO2', 'TIME': 'Time(MIN)'})"
   ]
  },
  {
   "cell_type": "code",
   "execution_count": 5,
   "id": "d76871fe",
   "metadata": {
    "execution": {
     "iopub.execute_input": "2024-03-07T20:28:45.538422Z",
     "iopub.status.busy": "2024-03-07T20:28:45.537960Z",
     "iopub.status.idle": "2024-03-07T20:28:45.557092Z",
     "shell.execute_reply": "2024-03-07T20:28:45.555631Z"
    },
    "papermill": {
     "duration": 0.035717,
     "end_time": "2024-03-07T20:28:45.560164",
     "exception": false,
     "start_time": "2024-03-07T20:28:45.524447",
     "status": "completed"
    },
    "tags": []
   },
   "outputs": [
    {
     "name": "stdout",
     "output_type": "stream",
     "text": [
      "<class 'pandas.core.frame.DataFrame'>\n",
      "RangeIndex: 54 entries, 0 to 53\n",
      "Data columns (total 17 columns):\n",
      " #   Column       Non-Null Count  Dtype  \n",
      "---  ------       --------------  -----  \n",
      " 0   Time(MIN)    54 non-null     float64\n",
      " 1   VO2          54 non-null     float64\n",
      " 2   VO2/kg       54 non-null     float64\n",
      " 3   METS         54 non-null     float64\n",
      " 4   VCO2         54 non-null     float64\n",
      " 5   VE           54 non-null     float64\n",
      " 6   RER          54 non-null     float64\n",
      " 7   RR           54 non-null     float64\n",
      " 8   Vt           54 non-null     float64\n",
      " 9   FEO2         54 non-null     float64\n",
      " 10  FECO2        54 non-null     float64\n",
      " 11  HR           54 non-null     float64\n",
      " 12  VE/VO2       54 non-null     float64\n",
      " 13  VE/VCO2      54 non-null     float64\n",
      " 14  PetCO2       54 non-null     float64\n",
      " 15  PO           54 non-null     int64  \n",
      " 16  Unnamed: 16  9 non-null      float64\n",
      "dtypes: float64(16), int64(1)\n",
      "memory usage: 7.3 KB\n"
     ]
    }
   ],
   "source": [
    "df.info()"
   ]
  },
  {
   "cell_type": "code",
   "execution_count": 6,
   "id": "14d82480",
   "metadata": {
    "execution": {
     "iopub.execute_input": "2024-03-07T20:28:45.586193Z",
     "iopub.status.busy": "2024-03-07T20:28:45.585634Z",
     "iopub.status.idle": "2024-03-07T20:28:45.592331Z",
     "shell.execute_reply": "2024-03-07T20:28:45.590636Z"
    },
    "papermill": {
     "duration": 0.024602,
     "end_time": "2024-03-07T20:28:45.596041",
     "exception": false,
     "start_time": "2024-03-07T20:28:45.571439",
     "status": "completed"
    },
    "tags": []
   },
   "outputs": [],
   "source": [
    "import matplotlib.pyplot as plt"
   ]
  },
  {
   "cell_type": "markdown",
   "id": "1a77a7b1",
   "metadata": {
    "papermill": {
     "duration": 0.013708,
     "end_time": "2024-03-07T20:28:45.621628",
     "exception": false,
     "start_time": "2024-03-07T20:28:45.607920",
     "status": "completed"
    },
    "tags": []
   },
   "source": [
    "### Create our big plot...\n",
    "1st define our variables x,y,& y1"
   ]
  },
  {
   "cell_type": "code",
   "execution_count": 7,
   "id": "3f98c032",
   "metadata": {
    "execution": {
     "iopub.execute_input": "2024-03-07T20:28:45.649015Z",
     "iopub.status.busy": "2024-03-07T20:28:45.647786Z",
     "iopub.status.idle": "2024-03-07T20:28:45.654585Z",
     "shell.execute_reply": "2024-03-07T20:28:45.653468Z"
    },
    "papermill": {
     "duration": 0.022603,
     "end_time": "2024-03-07T20:28:45.657572",
     "exception": false,
     "start_time": "2024-03-07T20:28:45.634969",
     "status": "completed"
    },
    "tags": []
   },
   "outputs": [],
   "source": [
    "# simplify our terms to reduce future typing...\n",
    "x = df['Time(MIN)']\n",
    "y = df['VO2']\n",
    "y1 = df['VE']"
   ]
  },
  {
   "cell_type": "markdown",
   "id": "66218fef",
   "metadata": {
    "papermill": {
     "duration": 0.011135,
     "end_time": "2024-03-07T20:28:45.680651",
     "exception": false,
     "start_time": "2024-03-07T20:28:45.669516",
     "status": "completed"
    },
    "tags": []
   },
   "source": [
    "#### Find the position where max occurs, on each axes"
   ]
  },
  {
   "cell_type": "code",
   "execution_count": 8,
   "id": "3d77a399",
   "metadata": {
    "execution": {
     "iopub.execute_input": "2024-03-07T20:28:45.707301Z",
     "iopub.status.busy": "2024-03-07T20:28:45.706696Z",
     "iopub.status.idle": "2024-03-07T20:28:45.715052Z",
     "shell.execute_reply": "2024-03-07T20:28:45.713257Z"
    },
    "papermill": {
     "duration": 0.025352,
     "end_time": "2024-03-07T20:28:45.718209",
     "exception": false,
     "start_time": "2024-03-07T20:28:45.692857",
     "status": "completed"
    },
    "tags": []
   },
   "outputs": [],
   "source": [
    "#Find VO2 max value \n",
    "ymax = max(y)\n",
    "\n",
    "# find the x position of the ymax value or where ymax occurs on the x axis\n",
    "xmax = x[y.argmax()]"
   ]
  },
  {
   "cell_type": "markdown",
   "id": "226a9648",
   "metadata": {
    "papermill": {
     "duration": 0.010613,
     "end_time": "2024-03-07T20:28:45.740294",
     "exception": false,
     "start_time": "2024-03-07T20:28:45.729681",
     "status": "completed"
    },
    "tags": []
   },
   "source": [
    "#### Now we can discover what these values are"
   ]
  },
  {
   "cell_type": "code",
   "execution_count": 9,
   "id": "33f0243f",
   "metadata": {
    "execution": {
     "iopub.execute_input": "2024-03-07T20:28:45.765292Z",
     "iopub.status.busy": "2024-03-07T20:28:45.764676Z",
     "iopub.status.idle": "2024-03-07T20:28:45.779292Z",
     "shell.execute_reply": "2024-03-07T20:28:45.770724Z"
    },
    "papermill": {
     "duration": 0.03243,
     "end_time": "2024-03-07T20:28:45.783743",
     "exception": false,
     "start_time": "2024-03-07T20:28:45.751313",
     "status": "completed"
    },
    "tags": []
   },
   "outputs": [
    {
     "name": "stdout",
     "output_type": "stream",
     "text": [
      "4.184775\n",
      "26.500189\n"
     ]
    }
   ],
   "source": [
    "print(ymax)\n",
    "print(xmax)"
   ]
  },
  {
   "cell_type": "markdown",
   "id": "cdc5eca4",
   "metadata": {
    "papermill": {
     "duration": 0.010523,
     "end_time": "2024-03-07T20:28:45.805926",
     "exception": false,
     "start_time": "2024-03-07T20:28:45.795403",
     "status": "completed"
    },
    "tags": []
   },
   "source": [
    "#### Create the frame and the axis that we will plot in"
   ]
  },
  {
   "cell_type": "code",
   "execution_count": 10,
   "id": "a42bbd33",
   "metadata": {
    "execution": {
     "iopub.execute_input": "2024-03-07T20:28:45.831423Z",
     "iopub.status.busy": "2024-03-07T20:28:45.830513Z",
     "iopub.status.idle": "2024-03-07T20:28:46.261798Z",
     "shell.execute_reply": "2024-03-07T20:28:46.260269Z"
    },
    "papermill": {
     "duration": 0.448647,
     "end_time": "2024-03-07T20:28:46.265515",
     "exception": false,
     "start_time": "2024-03-07T20:28:45.816868",
     "status": "completed"
    },
    "tags": []
   },
   "outputs": [
    {
     "data": {
      "image/png": "[encoded data removed]",
      "text/plain": [
       "<Figure size 640x480 with 2 Axes>"
      ]
     },
     "metadata": {},
     "output_type": "display_data"
    }
   ],
   "source": [
    "# break up the figure and axis definitions of a plot \n",
    "# so it is easier to assign values\n",
    "\n",
    "fig, ax = plt.subplots(2, 1, sharex=True)\n",
    "\n",
    "# create 2 subplots share x axis, in the next line we will remove \n",
    "# spaces between the horizontal axis, play with this value to see what happens the value can be 0.01 for example\n",
    "\n",
    "fig.subplots_adjust(hspace=0.001\n",
    "                   )"
   ]
  },
  {
   "cell_type": "markdown",
   "id": "fbe4416d",
   "metadata": {
    "papermill": {
     "duration": 0.011049,
     "end_time": "2024-03-07T20:28:46.291964",
     "exception": false,
     "start_time": "2024-03-07T20:28:46.280915",
     "status": "completed"
    },
    "tags": []
   },
   "source": [
    "#### Now that we have that axis value specified, annotate the position and marker for VO2 max"
   ]
  },
  {
   "cell_type": "code",
   "execution_count": 11,
   "id": "64e94175",
   "metadata": {
    "execution": {
     "iopub.execute_input": "2024-03-07T20:28:46.318612Z",
     "iopub.status.busy": "2024-03-07T20:28:46.317489Z",
     "iopub.status.idle": "2024-03-07T20:28:46.330160Z",
     "shell.execute_reply": "2024-03-07T20:28:46.328887Z"
    },
    "papermill": {
     "duration": 0.029468,
     "end_time": "2024-03-07T20:28:46.333153",
     "exception": false,
     "start_time": "2024-03-07T20:28:46.303685",
     "status": "completed"
    },
    "tags": []
   },
   "outputs": [
    {
     "data": {
      "text/plain": [
       "Text(27.000189, 5.184775, '$\\\\dot VO_2max$ =(4.18) L/min')"
      ]
     },
     "execution_count": 11,
     "metadata": {},
     "output_type": "execute_result"
    }
   ],
   "source": [
    "ax[0].annotate('$\\dot VO_2max$ =({}) L/min'.format(round(ymax, 2)), \n",
    "               xy=(xmax, ymax), xytext=(xmax+.5, ymax+ 1),\n",
    "               arrowprops=dict(facecolor='green', shrink= 0.05),\n",
    "                )"
   ]
  },
  {
   "cell_type": "markdown",
   "id": "bded573b",
   "metadata": {
    "papermill": {
     "duration": 0.011377,
     "end_time": "2024-03-07T20:28:46.356329",
     "exception": false,
     "start_time": "2024-03-07T20:28:46.344952",
     "status": "completed"
    },
    "tags": []
   },
   "source": [
    "#### For the first plot ax[0] we create the lable and make it red\n",
    "Then we get rid of the right and top plot frame\n",
    "We set the y axis lab as \"L/min\" and tell it to print a legend"
   ]
  },
  {
   "cell_type": "code",
   "execution_count": 12,
   "id": "1882230b",
   "metadata": {
    "execution": {
     "iopub.execute_input": "2024-03-07T20:28:46.381800Z",
     "iopub.status.busy": "2024-03-07T20:28:46.380601Z",
     "iopub.status.idle": "2024-03-07T20:28:46.395047Z",
     "shell.execute_reply": "2024-03-07T20:28:46.393754Z"
    },
    "papermill": {
     "duration": 0.030583,
     "end_time": "2024-03-07T20:28:46.398210",
     "exception": false,
     "start_time": "2024-03-07T20:28:46.367627",
     "status": "completed"
    },
    "tags": []
   },
   "outputs": [
    {
     "data": {
      "text/plain": [
       "<matplotlib.legend.Legend at 0x77fde60b65d0>"
      ]
     },
     "execution_count": 12,
     "metadata": {},
     "output_type": "execute_result"
    }
   ],
   "source": [
    "ax[0].plot(x, y,  label=('$\\dot VO_2$'), c='g' )\n",
    "ax[0].spines[['right', 'top']].set_visible(False)\n",
    "#note all these set features could be added in one line but reading it would be difficult\n",
    "#ax.set(title = ('$\\dot VO_2$'), label=('$\\dot VO_2$ L/min'))  \n",
    "ax[0].set(ylabel=('L/min'))\n",
    "ax[0].legend()\n"
   ]
  },
  {
   "cell_type": "markdown",
   "id": "63de3117",
   "metadata": {
    "papermill": {
     "duration": 0.011064,
     "end_time": "2024-03-07T20:28:46.420700",
     "exception": false,
     "start_time": "2024-03-07T20:28:46.409636",
     "status": "completed"
    },
    "tags": []
   },
   "source": [
    "#### Same thing for the second plot *note* we don't see the plot because we have not ploted the plot"
   ]
  },
  {
   "cell_type": "code",
   "execution_count": 13,
   "id": "5eb65986",
   "metadata": {
    "execution": {
     "iopub.execute_input": "2024-03-07T20:28:46.446593Z",
     "iopub.status.busy": "2024-03-07T20:28:46.445708Z",
     "iopub.status.idle": "2024-03-07T20:28:46.462840Z",
     "shell.execute_reply": "2024-03-07T20:28:46.461433Z"
    },
    "papermill": {
     "duration": 0.033411,
     "end_time": "2024-03-07T20:28:46.465671",
     "exception": false,
     "start_time": "2024-03-07T20:28:46.432260",
     "status": "completed"
    },
    "tags": []
   },
   "outputs": [
    {
     "data": {
      "text/plain": [
       "<matplotlib.legend.Legend at 0x77fde60b6610>"
      ]
     },
     "execution_count": 13,
     "metadata": {},
     "output_type": "execute_result"
    }
   ],
   "source": [
    "# Second plot of values down from the top\n",
    "ax[1].plot(x, y1, label=('VE'), c='b')\n",
    "ax[1].spines[['top', 'right']].set_visible(False)\n",
    "ax[1].set(ylabel=('L/min'))\n",
    "ax[1].legend()"
   ]
  },
  {
   "cell_type": "markdown",
   "id": "6ba8aedd",
   "metadata": {
    "papermill": {
     "duration": 0.012194,
     "end_time": "2024-03-07T20:28:46.490227",
     "exception": false,
     "start_time": "2024-03-07T20:28:46.478033",
     "status": "completed"
    },
    "tags": []
   },
   "source": [
    "#### We can now create a file with our first plot! We will save the plot first for reasons discussed"
   ]
  },
  {
   "cell_type": "code",
   "execution_count": 14,
   "id": "5b8129ac",
   "metadata": {
    "execution": {
     "iopub.execute_input": "2024-03-07T20:28:46.516900Z",
     "iopub.status.busy": "2024-03-07T20:28:46.515973Z",
     "iopub.status.idle": "2024-03-07T20:28:47.402854Z",
     "shell.execute_reply": "2024-03-07T20:28:47.401482Z"
    },
    "papermill": {
     "duration": 0.904631,
     "end_time": "2024-03-07T20:28:47.406887",
     "exception": false,
     "start_time": "2024-03-07T20:28:46.502256",
     "status": "completed"
    },
    "tags": []
   },
   "outputs": [],
   "source": [
    "fig.savefig(\"VO2-VE-3.png\", dpi=300, bbox_inches = \"tight\")"
   ]
  },
  {
   "cell_type": "markdown",
   "id": "ae26cc2e",
   "metadata": {
    "papermill": {
     "duration": 0.011174,
     "end_time": "2024-03-07T20:28:47.429996",
     "exception": false,
     "start_time": "2024-03-07T20:28:47.418822",
     "status": "completed"
    },
    "tags": []
   },
   "source": [
    "#### As this is an interactive space we need to put all the code together for it to plot out interactively..."
   ]
  },
  {
   "cell_type": "code",
   "execution_count": 15,
   "id": "8ab17811",
   "metadata": {
    "execution": {
     "iopub.execute_input": "2024-03-07T20:28:47.456391Z",
     "iopub.status.busy": "2024-03-07T20:28:47.455579Z",
     "iopub.status.idle": "2024-03-07T20:28:48.717684Z",
     "shell.execute_reply": "2024-03-07T20:28:48.716699Z"
    },
    "papermill": {
     "duration": 1.27901,
     "end_time": "2024-03-07T20:28:48.720528",
     "exception": false,
     "start_time": "2024-03-07T20:28:47.441518",
     "status": "completed"
    },
    "tags": []
   },
   "outputs": [
    {
     "data": {
      "image/png": "[encoded data removed]",
      "text/plain": [
       "<Figure size 640x480 with 2 Axes>"
      ]
     },
     "metadata": {},
     "output_type": "display_data"
    }
   ],
   "source": [
    "# break up the figure and axis definitions of a plot \n",
    "# so it is easier to assign values\n",
    "fig, ax = plt.subplots(2, 1, sharex=True)  # Height increased from default\n",
    "# spaces between the horizontal axis, play with this value?\n",
    "fig.subplots_adjust(hspace=0)\n",
    "\n",
    "\n",
    "ax[0].annotate('$\\dot VO_2max$ =({}) L/min'.format(round(ymax, 2)), \n",
    "               xy=(xmax, ymax), xytext=(xmax+.5, ymax+ 1),\n",
    "               arrowprops=dict(facecolor='red', shrink= 0.05),\n",
    "                )\n",
    "\n",
    "ax[0].plot(x, y,  label=('$\\dot VO_2$'), c='g' )\n",
    "ax[0].spines[['right', 'top']].set_visible(False)\n",
    "#note all these set features could be added in one line but reading it would be difficult\n",
    "#ax.set(title = ('$\\dot VO_2$'), label=('$\\dot VO_2$ L/min'))  \n",
    "ax[0].set(ylabel=('L/min'))\n",
    "ax[0].legend()\n",
    "\n",
    "# Second plot of values down from the top\n",
    "ax[1].plot(x, y1, label=('VE'), c='b')\n",
    "ax[1].spines[['top', 'right']].set_visible(False)\n",
    "ax[1].set(ylabel=('breaths/min'))\n",
    "ax[1].legend()\n",
    "\n",
    "#ax[0].set_ylim(min(y) - 1, max(y) + 1)  # Adjust as needed for your data\n",
    "#ax[1].set_ylim(min(y1) - 1, max(y1) + 1)  # Adjust as needed\n",
    "\n",
    "# save the figure before we show it... or it will be blank\n",
    "fig.savefig(\"VO2-VE-3.png\", dpi=300, bbox_inches = \"tight\")\n",
    "fig.show()"
   ]
  },
  {
   "cell_type": "markdown",
   "id": "74ea8989",
   "metadata": {
    "papermill": {
     "duration": 0.012424,
     "end_time": "2024-03-07T20:28:48.745924",
     "exception": false,
     "start_time": "2024-03-07T20:28:48.733500",
     "status": "completed"
    },
    "tags": []
   },
   "source": [
    "### We can put this all together now in one code block that does everything...\n",
    "\n",
    "We have built up each part seperatly in the code above to make sure that all parts of our code should and do work.  Now that we know everything works we can take the next step of putting it together in one code block so we don't run into coherence problems (running things out of order).  We will run everything in one block now, this is a self contained python file and you could turn it into a .py file and run it from the command line and if your path to the datafile was accurate it would run and save the image file."
   ]
  },
  {
   "cell_type": "code",
   "execution_count": 16,
   "id": "ae0dc47b",
   "metadata": {
    "execution": {
     "iopub.execute_input": "2024-03-07T20:28:48.775042Z",
     "iopub.status.busy": "2024-03-07T20:28:48.774256Z",
     "iopub.status.idle": "2024-03-07T20:28:50.297030Z",
     "shell.execute_reply": "2024-03-07T20:28:50.295666Z"
    },
    "papermill": {
     "duration": 1.540607,
     "end_time": "2024-03-07T20:28:50.300031",
     "exception": false,
     "start_time": "2024-03-07T20:28:48.759424",
     "status": "completed"
    },
    "tags": []
   },
   "outputs": [
    {
     "data": {
      "image/png": "[encoded data removed]",
      "text/plain": [
       "<Figure size 800x1000 with 2 Axes>"
      ]
     },
     "metadata": {},
     "output_type": "display_data"
    }
   ],
   "source": [
    "### Now all together in one code block that could run independently...\n",
    "# lets take care of importing everything we need at once\n",
    "\n",
    "import numpy as np # linear algebra\n",
    "import pandas as pd # data processing, CSV file I/O (e.g. pd.read_csv)\n",
    "import matplotlib.pyplot as plt\n",
    "\n",
    "# Lets read in our file now\n",
    "df = pd.read_csv('../input/demo-knes381/subject_1232.csv', header=[0], skiprows=[1,2,3])\n",
    "\n",
    "# please note that while this is an output file from the parvo-metabolics cart we have\n",
    "# I have edited this data set and simplied the header file on it\n",
    "\n",
    "# rename our column headers\n",
    "df = df.rename(columns={'VE/': 'VE/VO2','VE/.1': 'VE/VCO2'})\n",
    "\n",
    "# simplify our terms to reduce future typing... \n",
    "# it is easier to write plot x, y than plot df['Time'], df['VO2']\n",
    "x = df['TIME']\n",
    "y = df['VO2']\n",
    "y1 = df['VCO2']\n",
    "\n",
    "#Find VO2 max value \n",
    "ymax = max(y)\n",
    "\n",
    "# find the x position of the ymax value or where ymax occurs on the x axis\n",
    "xmax = x[y.argmax()]\n",
    "\n",
    "fig, ax = plt.subplots(2, 1, sharex=True, figsize=(8, 10)) # Note I increased the figure size here.\n",
    "\n",
    "# this line seperates the two plots...\n",
    "fig.subplots_adjust(hspace=0)\n",
    "\n",
    "# annotate the position of V02 max before plotting the value, we could do this later but why.\n",
    "\n",
    "ax[0].annotate('$\\dot VO_2max$ =({}) L/min'.format(round(ymax, 2)), \n",
    "               xy=(xmax, ymax), xytext=(xmax+.5, ymax+ .5),\n",
    "               arrowprops=dict(facecolor='red', shrink= 0.05),\n",
    "                )\n",
    "\n",
    "ax[0].plot(x, y, 'o', label=('$\\dot VO_2$'), c='g' )\n",
    "# in the line of code below I hide the top and right black bars serrounding the plot for APA format.\n",
    "ax[0].spines[['right', 'top']].set_visible(False)\n",
    "ax[0].set(ylabel=('L/min'))\n",
    "ax[0].legend()\n",
    "#note all these set features could be added in one line but reading it would be difficult\n",
    "\n",
    "# Second plot of values down from the top\n",
    "ax[1].plot(x, y1, 'o', label=('VE'), c='b')\n",
    "ax[1].spines[['top', 'right']].set_visible(False)\n",
    "ax[1].set(ylabel=('breaths/min'))\n",
    "ax[1].set(xlabel=('Time(MIN)'))\n",
    "ax[1].legend()\n",
    "\n",
    "# save the figure before we show it... or it will be blank\n",
    "fig.savefig(\"VO2-VE-4.png\", dpi=300, bbox_inches = \"tight\")\n",
    "fig.show()"
   ]
  },
  {
   "cell_type": "markdown",
   "id": "356768a7",
   "metadata": {
    "papermill": {
     "duration": 0.014668,
     "end_time": "2024-03-07T20:28:50.328528",
     "exception": false,
     "start_time": "2024-03-07T20:28:50.313860",
     "status": "completed"
    },
    "tags": []
   },
   "source": [
    "### Please note that if you change the file path of the datafile in the code block above you create an completely new graph for your new data, all by changing just one line of code...\n",
    "Also I have changed the marker form a line to dots, can you see somthing about the data that was hidden before when it was plotted in lines?"
   ]
  },
  {
   "cell_type": "code",
   "execution_count": 17,
   "id": "6b752f79",
   "metadata": {
    "execution": {
     "iopub.execute_input": "2024-03-07T20:28:50.358022Z",
     "iopub.status.busy": "2024-03-07T20:28:50.357521Z",
     "iopub.status.idle": "2024-03-07T20:28:50.409789Z",
     "shell.execute_reply": "2024-03-07T20:28:50.408232Z"
    },
    "papermill": {
     "duration": 0.071062,
     "end_time": "2024-03-07T20:28:50.412787",
     "exception": false,
     "start_time": "2024-03-07T20:28:50.341725",
     "status": "completed"
    },
    "tags": []
   },
   "outputs": [
    {
     "data": {
      "text/html": [
       "<div>\n",
       "<style scoped>\n",
       "    .dataframe tbody tr th:only-of-type {\n",
       "        vertical-align: middle;\n",
       "    }\n",
       "\n",
       "    .dataframe tbody tr th {\n",
       "        vertical-align: top;\n",
       "    }\n",
       "\n",
       "    .dataframe thead th {\n",
       "        text-align: right;\n",
       "    }\n",
       "</style>\n",
       "<table border=\"1\" class=\"dataframe\">\n",
       "  <thead>\n",
       "    <tr style=\"text-align: right;\">\n",
       "      <th></th>\n",
       "      <th>TIME</th>\n",
       "      <th>VO2</th>\n",
       "      <th>VO2/kg</th>\n",
       "      <th>METS</th>\n",
       "      <th>VCO2</th>\n",
       "      <th>VE</th>\n",
       "      <th>RER</th>\n",
       "      <th>RR</th>\n",
       "      <th>Vt</th>\n",
       "      <th>FEO2</th>\n",
       "      <th>FECO2</th>\n",
       "      <th>HR</th>\n",
       "      <th>VE/</th>\n",
       "      <th>VE/.1</th>\n",
       "      <th>PetCO2</th>\n",
       "      <th>Power</th>\n",
       "      <th>Lactate</th>\n",
       "    </tr>\n",
       "  </thead>\n",
       "  <tbody>\n",
       "    <tr>\n",
       "      <th>0</th>\n",
       "      <td>0.548500</td>\n",
       "      <td>0.286087</td>\n",
       "      <td>4.498218</td>\n",
       "      <td>1.285205</td>\n",
       "      <td>0.207759</td>\n",
       "      <td>10.016462</td>\n",
       "      <td>0.726212</td>\n",
       "      <td>16.408386</td>\n",
       "      <td>0.610448</td>\n",
       "      <td>17.150507</td>\n",
       "      <td>2.951995</td>\n",
       "      <td>74.0</td>\n",
       "      <td>35.011990</td>\n",
       "      <td>48.211826</td>\n",
       "      <td>19.651297</td>\n",
       "      <td>NaN</td>\n",
       "      <td>NaN</td>\n",
       "    </tr>\n",
       "    <tr>\n",
       "      <th>1</th>\n",
       "      <td>1.048500</td>\n",
       "      <td>0.323012</td>\n",
       "      <td>5.078805</td>\n",
       "      <td>1.451087</td>\n",
       "      <td>0.232768</td>\n",
       "      <td>11.156643</td>\n",
       "      <td>0.720616</td>\n",
       "      <td>18.000000</td>\n",
       "      <td>0.619814</td>\n",
       "      <td>17.103550</td>\n",
       "      <td>2.969106</td>\n",
       "      <td>76.0</td>\n",
       "      <td>34.539406</td>\n",
       "      <td>47.930397</td>\n",
       "      <td>19.818874</td>\n",
       "      <td>NaN</td>\n",
       "      <td>NaN</td>\n",
       "    </tr>\n",
       "    <tr>\n",
       "      <th>2</th>\n",
       "      <td>1.532667</td>\n",
       "      <td>0.294654</td>\n",
       "      <td>4.632925</td>\n",
       "      <td>1.323693</td>\n",
       "      <td>0.217481</td>\n",
       "      <td>10.376404</td>\n",
       "      <td>0.738090</td>\n",
       "      <td>18.588640</td>\n",
       "      <td>0.558212</td>\n",
       "      <td>17.162443</td>\n",
       "      <td>2.982493</td>\n",
       "      <td>74.0</td>\n",
       "      <td>35.215557</td>\n",
       "      <td>47.711712</td>\n",
       "      <td>19.880138</td>\n",
       "      <td>NaN</td>\n",
       "      <td>NaN</td>\n",
       "    </tr>\n",
       "    <tr>\n",
       "      <th>3</th>\n",
       "      <td>2.026167</td>\n",
       "      <td>0.282529</td>\n",
       "      <td>4.442279</td>\n",
       "      <td>1.269222</td>\n",
       "      <td>0.206691</td>\n",
       "      <td>10.325383</td>\n",
       "      <td>0.731574</td>\n",
       "      <td>18.237082</td>\n",
       "      <td>0.566175</td>\n",
       "      <td>17.304867</td>\n",
       "      <td>2.850333</td>\n",
       "      <td>74.0</td>\n",
       "      <td>36.546284</td>\n",
       "      <td>49.955666</td>\n",
       "      <td>18.997364</td>\n",
       "      <td>50.0</td>\n",
       "      <td>NaN</td>\n",
       "    </tr>\n",
       "    <tr>\n",
       "      <th>4</th>\n",
       "      <td>2.511500</td>\n",
       "      <td>0.490318</td>\n",
       "      <td>7.709397</td>\n",
       "      <td>2.202685</td>\n",
       "      <td>0.358941</td>\n",
       "      <td>16.674282</td>\n",
       "      <td>0.732058</td>\n",
       "      <td>24.725275</td>\n",
       "      <td>0.674382</td>\n",
       "      <td>17.033770</td>\n",
       "      <td>3.062165</td>\n",
       "      <td>86.0</td>\n",
       "      <td>34.007103</td>\n",
       "      <td>46.454113</td>\n",
       "      <td>20.526415</td>\n",
       "      <td>50.0</td>\n",
       "      <td>NaN</td>\n",
       "    </tr>\n",
       "  </tbody>\n",
       "</table>\n",
       "</div>"
      ],
      "text/plain": [
       "       TIME       VO2    VO2/kg      METS      VCO2         VE       RER  \\\n",
       "0  0.548500  0.286087  4.498218  1.285205  0.207759  10.016462  0.726212   \n",
       "1  1.048500  0.323012  5.078805  1.451087  0.232768  11.156643  0.720616   \n",
       "2  1.532667  0.294654  4.632925  1.323693  0.217481  10.376404  0.738090   \n",
       "3  2.026167  0.282529  4.442279  1.269222  0.206691  10.325383  0.731574   \n",
       "4  2.511500  0.490318  7.709397  2.202685  0.358941  16.674282  0.732058   \n",
       "\n",
       "          RR        Vt       FEO2     FECO2    HR        VE/      VE/.1  \\\n",
       "0  16.408386  0.610448  17.150507  2.951995  74.0  35.011990  48.211826   \n",
       "1  18.000000  0.619814  17.103550  2.969106  76.0  34.539406  47.930397   \n",
       "2  18.588640  0.558212  17.162443  2.982493  74.0  35.215557  47.711712   \n",
       "3  18.237082  0.566175  17.304867  2.850333  74.0  36.546284  49.955666   \n",
       "4  24.725275  0.674382  17.033770  3.062165  86.0  34.007103  46.454113   \n",
       "\n",
       "      PetCO2  Power Lactate  \n",
       "0  19.651297    NaN     NaN  \n",
       "1  19.818874    NaN     NaN  \n",
       "2  19.880138    NaN     NaN  \n",
       "3  18.997364   50.0     NaN  \n",
       "4  20.526415   50.0     NaN  "
      ]
     },
     "execution_count": 17,
     "metadata": {},
     "output_type": "execute_result"
    }
   ],
   "source": [
    "### Now all together in one code block that could run independently...\n",
    "# lets take care of importing everything we need at once\n",
    "\n",
    "import numpy as np # linear algebra\n",
    "import pandas as pd # data processing, CSV file I/O (e.g. pd.read_csv)\n",
    "import matplotlib.pyplot as plt\n",
    "\n",
    "# Lets read in our file now\n",
    "df = pd.read_csv('../input/demo-knes381/subject_1321.csv', header=[0], skiprows=[1,2,3])\n",
    "df.head()"
   ]
  },
  {
   "cell_type": "code",
   "execution_count": 18,
   "id": "55524aa9",
   "metadata": {
    "execution": {
     "iopub.execute_input": "2024-03-07T20:28:50.442792Z",
     "iopub.status.busy": "2024-03-07T20:28:50.442262Z",
     "iopub.status.idle": "2024-03-07T20:28:52.143083Z",
     "shell.execute_reply": "2024-03-07T20:28:52.141499Z"
    },
    "papermill": {
     "duration": 1.720577,
     "end_time": "2024-03-07T20:28:52.147070",
     "exception": false,
     "start_time": "2024-03-07T20:28:50.426493",
     "status": "completed"
    },
    "tags": []
   },
   "outputs": [
    {
     "data": {
      "image/png": "[encoded data removed]",
      "text/plain": [
       "<Figure size 1500x900 with 2 Axes>"
      ]
     },
     "metadata": {},
     "output_type": "display_data"
    }
   ],
   "source": [
    "\n",
    "import numpy as np\n",
    "import pandas as pd\n",
    "import matplotlib.pyplot as plt\n",
    "\n",
    "# Read the CSV file\n",
    "file_path = '../input/demo-knes381/subject_1321.csv'\n",
    "df = pd.read_csv(file_path, header=[0], skiprows=[1, 2, 3])\n",
    "\n",
    "# Rename column headers\n",
    "df = df.rename(columns={'VE/': 'VE/VO2', 'VE/.1': 'VE/VCO2'})\n",
    "\n",
    "# Simplify column names\n",
    "x = df['VO2']\n",
    "y = df['FECO2']\n",
    "y1 = df['VCO2']\n",
    "\n",
    "# Find VO2 max value\n",
    "ymax = y.max()\n",
    "\n",
    "# Find the x position of the ymax value\n",
    "xmax = x[y.idxmax()]\n",
    "\n",
    "# Set up the plot\n",
    "fig, ax = plt.subplots(2, 1, sharex=True, figsize=(15, 9))\n",
    "fig.subplots_adjust(hspace=0)\n",
    "\n",
    "# Plot FECO2\n",
    "ax[0].plot(x, y, 'o', label='$FECO_2$', c='g')\n",
    "ax[0].spines[['right', 'top']].set_visible(False)\n",
    "ax[0].set(ylabel='Percentage of total exhaled air volume(%)')\n",
    "ax[0].legend()\n",
    "\n",
    "# Plot VCO2\n",
    "ax[1].plot(x, y1, 'o', label='$VCO_2$', c='b')\n",
    "ax[1].spines[['top', 'right']].set_visible(False)\n",
    "ax[1].set(ylabel='L/min', xlabel='$VO_2(L/min)$')\n",
    "ax[1].legend()\n",
    "\n",
    "# Add ventilatory thresholds (T1 and T2)\n",
    "T1_vo2_value = 1.019390  # Value for T1 VO2\n",
    "T2_vo2_value = 2.080959  # Value for T2 VO2\n",
    "\n",
    "# Draw dotted lines for thresholds\n",
    "for axis in ax:\n",
    "    axis.axvline(x=T1_vo2_value, color='g', linestyle='--', label='T1')\n",
    "    axis.axvline(x=T2_vo2_value, color='b', linestyle='--', label='T2')\n",
    "\n",
    "# Save the figure before displaying it\n",
    "fig.savefig(\"FECO2-VCO2-VO2.png\", dpi=300, bbox_inches=\"tight\")\n",
    "\n",
    "# Display the figure\n",
    "plt.show()"
   ]
  },
  {
   "cell_type": "markdown",
   "id": "560a208f",
   "metadata": {
    "papermill": {
     "duration": 0.015332,
     "end_time": "2024-03-07T20:28:52.177914",
     "exception": false,
     "start_time": "2024-03-07T20:28:52.162582",
     "status": "completed"
    },
    "tags": []
   },
   "source": [
    "# DONE"
   ]
  },
  {
   "cell_type": "markdown",
   "id": "6303eb68",
   "metadata": {
    "papermill": {
     "duration": 0.014715,
     "end_time": "2024-03-07T20:28:52.209447",
     "exception": false,
     "start_time": "2024-03-07T20:28:52.194732",
     "status": "completed"
    },
    "tags": []
   },
   "source": []
  }
 ],
 "metadata": {
  "kaggle": {
   "accelerator": "none",
   "dataSources": [
    {
     "datasetId": 2952233,
     "sourceId": 5084312,
     "sourceType": "datasetVersion"
    }
   ],
   "dockerImageVersionId": 30407,
   "isGpuEnabled": false,
   "isInternetEnabled": false,
   "language": "python",
   "sourceType": "notebook"
  },
  "kernelspec": {
   "display_name": "Python 3",
   "language": "python",
   "name": "python3"
  },
  "language_info": {
   "codemirror_mode": {
    "name": "ipython",
    "version": 3
   },
   "file_extension": ".py",
   "mimetype": "text/x-python",
   "name": "python",
   "nbconvert_exporter": "python",
   "pygments_lexer": "ipython3",
   "version": "3.7.12"
  },
  "papermill": {
   "default_parameters": {},
   "duration": 23.095105,
   "end_time": "2024-03-07T20:28:53.048739",
   "environment_variables": {},
   "exception": null,
   "input_path": "__notebook__.ipynb",
   "output_path": "__notebook__.ipynb",
   "parameters": {},
   "start_time": "2024-03-07T20:28:29.953634",
   "version": "2.4.0"
  }
 },
 "nbformat": 4,
 "nbformat_minor": 5
}
